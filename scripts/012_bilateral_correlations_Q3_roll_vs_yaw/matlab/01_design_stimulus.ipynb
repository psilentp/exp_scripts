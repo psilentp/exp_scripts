{
 "cells": [
  {
   "cell_type": "code",
   "execution_count": 5,
   "metadata": {},
   "outputs": [
    {
     "name": "stdout",
     "output_type": "stream",
     "text": [
      "Using matplotlib backend: TkAgg\n"
     ]
    },
    {
     "name": "stderr",
     "output_type": "stream",
     "text": [
      "arenaclouds.py:9: VisibleDeprecationWarning: using a non-integer number instead of an integer will result in an error in the future\n",
      "  ux = (random.ranf(size = num_stars)-0.5)*universe_size\n",
      "arenaclouds.py:10: VisibleDeprecationWarning: using a non-integer number instead of an integer will result in an error in the future\n",
      "  uy = (random.ranf(size = num_stars)-0.5)*universe_size\n",
      "arenaclouds.py:11: VisibleDeprecationWarning: using a non-integer number instead of an integer will result in an error in the future\n",
      "  uz = (random.ranf(size = num_stars)-0.5)*universe_size\n"
     ]
    }
   ],
   "source": [
    "import arenaclouds as acld\n",
    "\n",
    "import numpy as np\n",
    "\n",
    "%matplotlib\n",
    "from matplotlib import pyplot as plt\n",
    "\n",
    "angular_velocity = 3\n",
    "\n",
    "##Yaw RIGHT\n",
    "reload(acld)\n",
    "translation_velocity = 0\n",
    "frame_rate = 50.\n",
    "coromeridian_pole = np.deg2rad(90)\n",
    "\n",
    "reload(acld)\n",
    "imgs = acld.make_spin_pattern_sagimeridian(coromeridian_pole,\n",
    "                              angular_velocity = angular_velocity,\n",
    "                              frame_rate = frame_rate,\n",
    "                              star_density = 10,\n",
    "                              display_shape = (40,96))\n",
    "\n",
    "imgs = acld.adjust_depth(imgs,bit_depth=3)\n",
    "from scipy import io\n",
    "io.savemat('yaw_right.mat',{'imgs':imgs})\n",
    "#acld.play_pattern(imgs)\n",
    "\n",
    "##roll RIGHT\n",
    "reload(acld)\n",
    "translation_velocity = 0\n",
    "frame_rate = 50.\n",
    "coromeridian_pole = np.deg2rad(180)\n",
    "\n",
    "reload(acld)\n",
    "imgs = acld.make_spin_pattern_sagimeridian(coromeridian_pole,\n",
    "                              angular_velocity = angular_velocity,\n",
    "                              frame_rate = frame_rate,\n",
    "                              star_density = 10,\n",
    "                              display_shape = (40,96))\n",
    "\n",
    "imgs = acld.adjust_depth(imgs,bit_depth=3)\n",
    "from scipy import io\n",
    "io.savemat('roll_right.mat',{'imgs':imgs})\n",
    "#acld.play_pattern(imgs)LEFT"
   ]
  },
  {
   "cell_type": "code",
   "execution_count": null,
   "metadata": {},
   "outputs": [],
   "source": []
  },
  {
   "cell_type": "code",
   "execution_count": null,
   "metadata": {},
   "outputs": [],
   "source": []
  },
  {
   "cell_type": "code",
   "execution_count": null,
   "metadata": {},
   "outputs": [],
   "source": []
  },
  {
   "cell_type": "code",
   "execution_count": null,
   "metadata": {},
   "outputs": [],
   "source": []
  },
  {
   "cell_type": "code",
   "execution_count": 67,
   "metadata": {},
   "outputs": [],
   "source": [
    "## Roll LEFT\n",
    "reload(acld)\n",
    "translation_velocity = 0\n",
    "frame_rate = 50.\n",
    "coromeridian_pole = np.deg2rad(0)\n",
    "\n",
    "reload(acld)\n",
    "imgs = acld.make_spin_pattern_sagimeridian(coromeridian_pole,\n",
    "                              angular_velocity = angular_velocity,\n",
    "                              frame_rate = frame_rate,\n",
    "                              star_density = 10,\n",
    "                              display_shape = (40,96))\n",
    "\n",
    "imgs = acld.adjust_depth(imgs,bit_depth=3)\n",
    "from scipy import io\n",
    "io.savemat('roll_left.mat',{'imgs':imgs})\n",
    "#acld.play_pattern(imgs)LEFT"
   ]
  },
  {
   "cell_type": "code",
   "execution_count": 70,
   "metadata": {},
   "outputs": [],
   "source": [
    "##yaw LEFT\n",
    "reload(acld)\n",
    "translation_velocity = 0\n",
    "frame_rate = 50.\n",
    "coromeridian_pole = np.deg2rad(270)\n",
    "\n",
    "reload(acld)\n",
    "imgs = acld.make_spin_pattern_sagimeridian(coromeridian_pole,\n",
    "                              angular_velocity = angular_velocity,\n",
    "                              frame_rate = frame_rate,\n",
    "                              star_density = 10,\n",
    "                              display_shape = (40,96))\n",
    "\n",
    "imgs = acld.adjust_depth(imgs,bit_depth=3)\n",
    "from scipy import io\n",
    "io.savemat('yaw_left.mat',{'imgs':imgs})\n",
    "#acld.play_pattern(imgs)"
   ]
  },
  {
   "cell_type": "code",
   "execution_count": null,
   "metadata": {},
   "outputs": [],
   "source": []
  },
  {
   "cell_type": "code",
   "execution_count": 71,
   "metadata": {},
   "outputs": [
    {
     "data": {
      "text/plain": [
       "(40, 96, 105)"
      ]
     },
     "execution_count": 71,
     "metadata": {},
     "output_type": "execute_result"
    }
   ],
   "source": [
    "np.shape(imgs)"
   ]
  },
  {
   "cell_type": "code",
   "execution_count": null,
   "metadata": {},
   "outputs": [],
   "source": []
  },
  {
   "cell_type": "code",
   "execution_count": null,
   "metadata": {},
   "outputs": [],
   "source": []
  },
  {
   "cell_type": "code",
   "execution_count": 45,
   "metadata": {},
   "outputs": [],
   "source": [
    "## Pitch DOWN\n",
    "reload(acld)\n",
    "translation_velocity = 0\n",
    "frame_rate = 50.\n",
    "angular_velocity = 10\n",
    "coromeridian_pole = np.deg2rad(180)\n",
    "\n",
    "reload(acld)\n",
    "imgs = acld.make_spin_pattern_coromeridian(coromeridian_pole,\n",
    "                              angular_velocity = 0.5,\n",
    "                              frame_rate = frame_rate,\n",
    "                              star_density = 10,\n",
    "                              display_shape = (40,96))\n",
    "\n",
    "imgs = acld.adjust_depth(imgs,bit_depth=3)\n",
    "from scipy import io\n",
    "io.savemat('pitch_down.mat',{'imgs':imgs})"
   ]
  },
  {
   "cell_type": "code",
   "execution_count": 46,
   "metadata": {},
   "outputs": [],
   "source": [
    "## Yaw LEFT\n",
    "reload(acld)\n",
    "translation_velocity = 0\n",
    "frame_rate = 50.\n",
    "angular_velocity = 10\n",
    "coromeridian_pole = np.deg2rad(90)\n",
    "\n",
    "reload(acld)\n",
    "imgs = acld.make_spin_pattern_coromeridian(coromeridian_pole,\n",
    "                              angular_velocity = 0.5,\n",
    "                              frame_rate = frame_rate,\n",
    "                              star_density = 10,\n",
    "                              display_shape = (40,96))\n",
    "\n",
    "imgs = acld.adjust_depth(imgs,bit_depth=3)\n",
    "from scipy import io\n",
    "#io.savemat('roll___.mat',{'imgs':imgs})"
   ]
  },
  {
   "cell_type": "code",
   "execution_count": 47,
   "metadata": {},
   "outputs": [],
   "source": [
    "acld.play_pattern(imgs)"
   ]
  },
  {
   "cell_type": "code",
   "execution_count": null,
   "metadata": {},
   "outputs": [],
   "source": []
  },
  {
   "cell_type": "code",
   "execution_count": null,
   "metadata": {},
   "outputs": [],
   "source": []
  },
  {
   "cell_type": "code",
   "execution_count": 42,
   "metadata": {},
   "outputs": [
    {
     "name": "stdout",
     "output_type": "stream",
     "text": [
      "\u001b[0m\u001b[01;32m01_design_stimulus.ipynb\u001b[0m*  \u001b[01;32marenaclouds.pyc\u001b[0m*        \u001b[01;32mtestmat.mat\u001b[0m*\r\n",
      "\u001b[01;32marenaclouds.py\u001b[0m*            \u001b[01;32msagimeridian_5157.mat\u001b[0m*\r\n"
     ]
    }
   ],
   "source": [
    "ls"
   ]
  },
  {
   "cell_type": "code",
   "execution_count": 158,
   "metadata": {},
   "outputs": [
    {
     "data": {
      "text/plain": [
       "(32, 96, 629)"
      ]
     },
     "execution_count": 158,
     "metadata": {},
     "output_type": "execute_result"
    }
   ],
   "source": [
    "np.shape(imgs)"
   ]
  },
  {
   "cell_type": "code",
   "execution_count": 26,
   "metadata": {},
   "outputs": [
    {
     "data": {
      "text/plain": [
       "4.0"
      ]
     },
     "execution_count": 26,
     "metadata": {},
     "output_type": "execute_result"
    }
   ],
   "source": []
  },
  {
   "cell_type": "code",
   "execution_count": null,
   "metadata": {},
   "outputs": [],
   "source": []
  }
 ],
 "metadata": {
  "kernelspec": {
   "display_name": "Python 2",
   "language": "python",
   "name": "python2"
  },
  "language_info": {
   "codemirror_mode": {
    "name": "ipython",
    "version": 2
   },
   "file_extension": ".py",
   "mimetype": "text/x-python",
   "name": "python",
   "nbconvert_exporter": "python",
   "pygments_lexer": "ipython2",
   "version": "2.7.12"
  }
 },
 "nbformat": 4,
 "nbformat_minor": 2
}
